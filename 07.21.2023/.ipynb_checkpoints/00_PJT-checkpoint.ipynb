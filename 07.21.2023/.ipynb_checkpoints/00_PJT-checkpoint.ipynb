{
 "cells": [
  {
   "cell_type": "markdown",
   "id": "3632b67a",
   "metadata": {},
   "source": [
    "# 'Y': 다시 코드 모드로 변경\n",
    "\n",
    "# 'M': 쉘 하나가 마크다운 (esc 누르고)\n",
    "\n",
    "# 'a' : 커서 기준 위에 쉘 하나 추가\n",
    "\n",
    "# 'b': 커서 기준 아래에 쉘 하나 추가\n",
    "\n",
    "# 'dd' : 쉘 삭제\n",
    "\n",
    "# 'shift + enter ': 실행 후 커서를 아래로 이동\n",
    "\n",
    "# ctrl + enter : 실행 후 커서를 제자리에\n"
   ]
  },
  {
   "cell_type": "code",
   "execution_count": null,
   "id": "f52bb273",
   "metadata": {},
   "outputs": [],
   "source": [
    "API_KEY = '4fe983f1582b893b819da9c95418a03a'"
   ]
  },
  {
   "cell_type": "code",
   "execution_count": 32,
   "id": "e64c9388",
   "metadata": {},
   "outputs": [],
   "source": [
    "API_KEY = '4fe983f1582b893b819da9c95418a03a'\n",
    "# lat =  37.56\n",
    "# lon = 126.97\n",
    "city_name = 'Seoul,KR'\n",
    "url = f'https://api.openweathermap.org/data/2.5/weather?q={city_name}&appid={API_KEY}'"
   ]
  },
  {
   "cell_type": "code",
   "execution_count": 33,
   "id": "2d7f3e32",
   "metadata": {},
   "outputs": [
    {
     "data": {
      "text/plain": [
       "31.510000000000048"
      ]
     },
     "execution_count": 33,
     "metadata": {},
     "output_type": "execute_result"
    }
   ],
   "source": [
    "import requests\n",
    "\n",
    "response = requests.get(url).json()\n",
    "# response\n",
    "#온도만 출력\n",
    "temp = response['main']['temp']\n",
    "temp -= 273.15\n",
    "temp"
   ]
  },
  {
   "cell_type": "code",
   "execution_count": null,
   "id": "35984a8c",
   "metadata": {},
   "outputs": [],
   "source": []
  }
 ],
 "metadata": {
  "kernelspec": {
   "display_name": "Python 3 (ipykernel)",
   "language": "python",
   "name": "python3"
  },
  "language_info": {
   "codemirror_mode": {
    "name": "ipython",
    "version": 3
   },
   "file_extension": ".py",
   "mimetype": "text/x-python",
   "name": "python",
   "nbconvert_exporter": "python",
   "pygments_lexer": "ipython3",
   "version": "3.9.13"
  }
 },
 "nbformat": 4,
 "nbformat_minor": 5
}
